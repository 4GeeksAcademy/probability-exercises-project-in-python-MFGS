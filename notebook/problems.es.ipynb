{
 "cells": [
  {
   "cell_type": "markdown",
   "id": "a41f3622",
   "metadata": {},
   "source": [
    "# Ejercicios de probabilidad"
   ]
  },
  {
   "cell_type": "markdown",
   "id": "a6bdbd89",
   "metadata": {},
   "source": [
    "## Ejercicio 1 \n",
    "\n",
    "Dos dados se lanzan una vez y se observa el total obtenido. Usa una simulación para encontrar la probabilidad estimada de que la puntuación sea mayor a 7 o un número par. Una simulación es una repetición del mismo experimento multiples veces para observar su comportamiento:\n",
    "\n",
    "- Ejecuta el experimento 1000 veces (lanza 2 dados 1000 veces, y suma el número de ambos dados).\n",
    "- Lleva la cuenta de los números y las veces que la suma fue mayor a 7 o un número par.\n",
    "- Divide el número del paso 2 entre el número de iteraciones(1000)."
   ]
  },
  {
   "cell_type": "code",
   "execution_count": 18,
   "id": "8939d892",
   "metadata": {},
   "outputs": [
    {
     "name": "stdout",
     "output_type": "stream",
     "text": [
      "La probabilidad estimada es de: 0.68, es decir un: 68.0%\n"
     ]
    }
   ],
   "source": [
    "# TODO\n",
    "import random \n",
    "import numpy as np\n",
    "simulacion = 1000\n",
    "\n",
    "# Experimento lanzar los dados \n",
    "dado_1 = np.random.randint(1, 7, simulacion)\n",
    "dado_2 = np.random.randint(1,7, simulacion)\n",
    "\n",
    "# Suma de ambos dados\n",
    "dados_sum = dado_1 + dado_2\n",
    "\n",
    "num_favorable_cases = 0\n",
    "\n",
    "# Número de casos que la suma es 7 o un número par\n",
    "\n",
    "for x in dados_sum:\n",
    "    if x > 7 or x %2 == 0: # Condición: 7 o número par\n",
    "        num_favorable_cases += 1\n",
    "\n",
    "probability = num_favorable_cases / simulacion\n",
    "\n",
    "print(f'La probabilidad estimada es de: {probability}, es decir un: {probability * 100}%')\n",
    "\n",
    "\n",
    "    \n"
   ]
  },
  {
   "cell_type": "markdown",
   "id": "55732bca",
   "metadata": {},
   "source": [
    "## Ejercicio 2\n",
    "\n",
    "Una caja contiene 10 bolas blancas, 20 bolas rojas y 30 bolas verdes. Si tomamos 5 bolas de la caja reemplazándolas (tomando una bola, anotando el color y luego regresandola a la caja). Queremos saber la probabilidad de:\n",
    "\n",
    "1. Tomar 3 blancas y 2 rojas.\n",
    "2. Tomar todas del mismo color.\n",
    "\n",
    "Ejecuta el experimento 1000 veces y calcula las probabilidades que mencionadas."
   ]
  },
  {
   "cell_type": "code",
   "execution_count": 20,
   "id": "23244d20",
   "metadata": {},
   "outputs": [
    {
     "name": "stdout",
     "output_type": "stream",
     "text": [
      "{0: 'White', 1: 'White', 2: 'White', 3: 'White', 4: 'White', 5: 'White', 6: 'White', 7: 'White', 8: 'White', 9: 'White', 10: 'Red', 11: 'Red', 12: 'Red', 13: 'Red', 14: 'Red', 15: 'Red', 16: 'Red', 17: 'Red', 18: 'Red', 19: 'Red', 20: 'Red', 21: 'Red', 22: 'Red', 23: 'Red', 24: 'Red', 25: 'Red', 26: 'Red', 27: 'Red', 28: 'Red', 29: 'Red', 30: 'Green', 31: 'Green', 32: 'Green', 33: 'Green', 34: 'Green', 35: 'Green', 36: 'Green', 37: 'Green', 38: 'Green', 39: 'Green', 40: 'Green', 41: 'Green', 42: 'Green', 43: 'Green', 44: 'Green', 45: 'Green', 46: 'Green', 47: 'Green', 48: 'Green', 49: 'Green', 50: 'Green', 51: 'Green', 52: 'Green', 53: 'Green', 54: 'Green', 55: 'Green', 56: 'Green', 57: 'Green', 58: 'Green', 59: 'Green'}\n",
      "La probabilidad de que salgan 3 bolas blancas y 2 rojas es de: 0.5%\n",
      "La probabilidad de que todas salgan del mismo color es de: 4.2%\n"
     ]
    }
   ],
   "source": [
    "ball_box = {}\n",
    "\n",
    "# Crea la cajas con las bolas\n",
    "for i in range(60):\n",
    "    if i < 10:\n",
    "        ball_box[i] = \"White\"\n",
    "    elif (i > 9) and (i < 30):\n",
    "        ball_box[i] = \"Red\"\n",
    "    else:\n",
    "        ball_box[i] = \"Green\"\n",
    "\n",
    "print(ball_box)\n",
    "            \n",
    "# TODO\n",
    "\n",
    "import numpy as np\n",
    "def take_balls(simulacion = 1000):\n",
    "    count1 = 0\n",
    "    count2 = 0\n",
    "\n",
    "# Acción de tomar 5 bolas de la caja\n",
    "    for i in range(simulacion):\n",
    "        colors = []\n",
    "\n",
    "        for i in range(5):\n",
    "            colors = [ball_box[np.random.randint(0, 60)] for i in range(5)]\n",
    "\n",
    "        white_balls = colors.count(\"White\")\n",
    "        red_balls = colors.count(\"Red\")\n",
    "        green_balls = colors.count(\"Green\")\n",
    "\n",
    "        if (white_balls == 3) and (red_balls == 2):\n",
    "            count1 += 1\n",
    "\n",
    "        if (white_balls == 5) or (red_balls == 5) or (green_balls == 5):\n",
    "            count2 += 1\n",
    "\n",
    "    return count1 / simulacion,  count2 / simulacion\n",
    "\n",
    "probabilities = take_balls(1000)\n",
    "\n",
    "print(f\"La probabilidad de que salgan 3 bolas blancas y 2 rojas es de: {np.round(probabilities[0] * 100, 2)}%\")\n",
    "print(f\"La probabilidad de que todas salgan del mismo color es de: {np.round(probabilities[1] * 100, 2)}%\")\n",
    "\n",
    "\n"
   ]
  }
 ],
 "metadata": {
  "kernelspec": {
   "display_name": "Python 3",
   "language": "python",
   "name": "python3"
  },
  "language_info": {
   "codemirror_mode": {
    "name": "ipython",
    "version": 3
   },
   "file_extension": ".py",
   "mimetype": "text/x-python",
   "name": "python",
   "nbconvert_exporter": "python",
   "pygments_lexer": "ipython3",
   "version": "3.11.4"
  }
 },
 "nbformat": 4,
 "nbformat_minor": 5
}
